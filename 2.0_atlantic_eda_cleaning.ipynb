{
 "cells": [
  {
   "cell_type": "markdown",
   "metadata": {},
   "source": [
    "## 2.0 Atlantic Articles EDA and Cleaning\n",
    "\n",
    "This notebook contains some initial exploratory analysis of the data scraped from the Atlantic using 1.0_atlantic_scraper.ipynb. After exploring article topic trends and distributions within the data, the data is also cleaned in preparation for analysis using NLP techniques."
   ]
  },
  {
   "cell_type": "code",
   "execution_count": 1,
   "metadata": {},
   "outputs": [
    {
     "name": "stderr",
     "output_type": "stream",
     "text": [
      "[nltk_data] Downloading package punkt to\n",
      "[nltk_data]     C:\\Users\\Owner\\AppData\\Roaming\\nltk_data...\n",
      "[nltk_data]   Package punkt is already up-to-date!\n",
      "[nltk_data] Downloading package stopwords to\n",
      "[nltk_data]     C:\\Users\\Owner\\AppData\\Roaming\\nltk_data...\n",
      "[nltk_data]   Package stopwords is already up-to-date!\n"
     ]
    },
    {
     "data": {
      "text/plain": [
       "True"
      ]
     },
     "execution_count": 1,
     "metadata": {},
     "output_type": "execute_result"
    }
   ],
   "source": [
    "import os\n",
    "import pickle as pkl\n",
    "from datetime import date\n",
    "from datetime import datetime\n",
    "\n",
    "import pandas as pd\n",
    "import numpy as np\n",
    "import matplotlib.pyplot as plt\n",
    "\n",
    "import nltk\n",
    "from nltk.tokenize import word_tokenize \n",
    "nltk.download('punkt')\n",
    "from nltk.stem import PorterStemmer \n",
    "from nltk.corpus import stopwords \n",
    "nltk.download('stopwords') "
   ]
  },
  {
   "cell_type": "markdown",
   "metadata": {},
   "source": [
    "Loading pkl files and creating a DataFrame:"
   ]
  },
  {
   "cell_type": "code",
   "execution_count": 2,
   "metadata": {},
   "outputs": [],
   "source": [
    "dict_list = []\n",
    "\n",
    "# load data from all pkl files in data/raw and add to list\n",
    "file_list = os.listdir(os.path.join('data', 'raw'))\n",
    "for file in file_list:\n",
    "    if file[-4:] == '.pkl':\n",
    "        with open (os.path.join('data', 'raw', file), 'rb') as fp: \n",
    "            data = pkl.load(fp)\n",
    "            dict_list.append(data)\n",
    "\n",
    "# consolidate data into one dictionary\n",
    "master_dict = {key:[] for key in dict_list[0].keys()}\n",
    "\n",
    "for date_dict in dict_list:\n",
    "    for key, val in date_dict.items():\n",
    "        master_dict[key] += val"
   ]
  },
  {
   "cell_type": "code",
   "execution_count": 3,
   "metadata": {},
   "outputs": [
    {
     "data": {
      "text/plain": [
       "(29990, 9)"
      ]
     },
     "execution_count": 3,
     "metadata": {},
     "output_type": "execute_result"
    }
   ],
   "source": [
    "df = pd.DataFrame(master_dict)\n",
    "df.shape"
   ]
  },
  {
   "cell_type": "code",
   "execution_count": 4,
   "metadata": {},
   "outputs": [
    {
     "data": {
      "text/html": [
       "<div>\n",
       "<style scoped>\n",
       "    .dataframe tbody tr th:only-of-type {\n",
       "        vertical-align: middle;\n",
       "    }\n",
       "\n",
       "    .dataframe tbody tr th {\n",
       "        vertical-align: top;\n",
       "    }\n",
       "\n",
       "    .dataframe thead th {\n",
       "        text-align: right;\n",
       "    }\n",
       "</style>\n",
       "<table border=\"1\" class=\"dataframe\">\n",
       "  <thead>\n",
       "    <tr style=\"text-align: right;\">\n",
       "      <th></th>\n",
       "      <th>date</th>\n",
       "      <th>category</th>\n",
       "      <th>title</th>\n",
       "      <th>subtitle</th>\n",
       "      <th>author</th>\n",
       "      <th>author_bio</th>\n",
       "      <th>text</th>\n",
       "      <th>url</th>\n",
       "      <th>time_scraped</th>\n",
       "    </tr>\n",
       "  </thead>\n",
       "  <tbody>\n",
       "    <tr>\n",
       "      <th>0</th>\n",
       "      <td>2016-04-01</td>\n",
       "      <td>Daily</td>\n",
       "      <td>The Atlantic Daily: March Jobs Report, Chicago...</td>\n",
       "      <td>The U.S. economy adds a modest 215,000 jobs, t...</td>\n",
       "      <td>Matt Ford and Rosa Inocencio Smith</td>\n",
       "      <td>Matt Ford is a former associate editor at The ...</td>\n",
       "      <td>What We’re Following: Marching Toward JobsThe...</td>\n",
       "      <td>https://www.theatlantic.com/newsletters/archiv...</td>\n",
       "      <td>2020-09-29 18:43:20.697674</td>\n",
       "    </tr>\n",
       "    <tr>\n",
       "      <th>1</th>\n",
       "      <td>2016-04-01</td>\n",
       "      <td>Politics Daily</td>\n",
       "      <td>The Edge: In Like a Lion and Out With Jobs</td>\n",
       "      <td>?</td>\n",
       "      <td>Elaine Godfrey</td>\n",
       "      <td>Elaine Godfrey is a staff writer at The Atlant...</td>\n",
       "      <td>Today in One ParagraphPresident Obama advised...</td>\n",
       "      <td>https://www.theatlantic.com/politics/archive/2...</td>\n",
       "      <td>2020-09-29 18:43:37.002516</td>\n",
       "    </tr>\n",
       "    <tr>\n",
       "      <th>2</th>\n",
       "      <td>2016-04-01</td>\n",
       "      <td>Global</td>\n",
       "      <td>Hacking Elections in Latin America and Rapping...</td>\n",
       "      <td>The highlights from seven days of reading abou...</td>\n",
       "      <td>Jillian Kumagai</td>\n",
       "      <td>Jillian Kumagai is a former editorial fellow a...</td>\n",
       "      <td>The French Connection\\r\\nWilliam McCants and ...</td>\n",
       "      <td>https://www.theatlantic.com/international/arch...</td>\n",
       "      <td>2020-09-29 18:43:44.801143</td>\n",
       "    </tr>\n",
       "    <tr>\n",
       "      <th>3</th>\n",
       "      <td>2016-04-01</td>\n",
       "      <td>Politics</td>\n",
       "      <td>Bernie in the Bronx</td>\n",
       "      <td>Can Sanders stun Hillary Clinton in the state ...</td>\n",
       "      <td>Russell Berman</td>\n",
       "      <td>Russell Berman is a staff writer at The Atlant...</td>\n",
       "      <td>BRONX, New York—Mercer Jabul sat quietly at t...</td>\n",
       "      <td>https://www.theatlantic.com/politics/archive/2...</td>\n",
       "      <td>2020-09-29 18:43:52.166631</td>\n",
       "    </tr>\n",
       "    <tr>\n",
       "      <th>4</th>\n",
       "      <td>2016-04-01</td>\n",
       "      <td>Global</td>\n",
       "      <td>Pitching Global Stories: A Freelancer’s Guide</td>\n",
       "      <td>Send us your smart, original stories about wha...</td>\n",
       "      <td>The Editors</td>\n",
       "      <td>?</td>\n",
       "      <td>The Atlantic’s global coverage is driven by c...</td>\n",
       "      <td>https://www.theatlantic.com/international/arch...</td>\n",
       "      <td>2020-09-29 18:44:00.005706</td>\n",
       "    </tr>\n",
       "  </tbody>\n",
       "</table>\n",
       "</div>"
      ],
      "text/plain": [
       "        date        category  \\\n",
       "0 2016-04-01           Daily   \n",
       "1 2016-04-01  Politics Daily   \n",
       "2 2016-04-01          Global   \n",
       "3 2016-04-01        Politics   \n",
       "4 2016-04-01          Global   \n",
       "\n",
       "                                               title  \\\n",
       "0  The Atlantic Daily: March Jobs Report, Chicago...   \n",
       "1         The Edge: In Like a Lion and Out With Jobs   \n",
       "2  Hacking Elections in Latin America and Rapping...   \n",
       "3                                Bernie in the Bronx   \n",
       "4      Pitching Global Stories: A Freelancer’s Guide   \n",
       "\n",
       "                                            subtitle  \\\n",
       "0  The U.S. economy adds a modest 215,000 jobs, t...   \n",
       "1                                                  ?   \n",
       "2  The highlights from seven days of reading abou...   \n",
       "3  Can Sanders stun Hillary Clinton in the state ...   \n",
       "4  Send us your smart, original stories about wha...   \n",
       "\n",
       "                               author  \\\n",
       "0  Matt Ford and Rosa Inocencio Smith   \n",
       "1                      Elaine Godfrey   \n",
       "2                     Jillian Kumagai   \n",
       "3                      Russell Berman   \n",
       "4                         The Editors   \n",
       "\n",
       "                                          author_bio  \\\n",
       "0  Matt Ford is a former associate editor at The ...   \n",
       "1  Elaine Godfrey is a staff writer at The Atlant...   \n",
       "2  Jillian Kumagai is a former editorial fellow a...   \n",
       "3  Russell Berman is a staff writer at The Atlant...   \n",
       "4                                                  ?   \n",
       "\n",
       "                                                text  \\\n",
       "0   What We’re Following: Marching Toward JobsThe...   \n",
       "1   Today in One ParagraphPresident Obama advised...   \n",
       "2   The French Connection\\r\\nWilliam McCants and ...   \n",
       "3   BRONX, New York—Mercer Jabul sat quietly at t...   \n",
       "4   The Atlantic’s global coverage is driven by c...   \n",
       "\n",
       "                                                 url  \\\n",
       "0  https://www.theatlantic.com/newsletters/archiv...   \n",
       "1  https://www.theatlantic.com/politics/archive/2...   \n",
       "2  https://www.theatlantic.com/international/arch...   \n",
       "3  https://www.theatlantic.com/politics/archive/2...   \n",
       "4  https://www.theatlantic.com/international/arch...   \n",
       "\n",
       "                time_scraped  \n",
       "0 2020-09-29 18:43:20.697674  \n",
       "1 2020-09-29 18:43:37.002516  \n",
       "2 2020-09-29 18:43:44.801143  \n",
       "3 2020-09-29 18:43:52.166631  \n",
       "4 2020-09-29 18:44:00.005706  "
      ]
     },
     "execution_count": 4,
     "metadata": {},
     "output_type": "execute_result"
    }
   ],
   "source": [
    "df.head()"
   ]
  },
  {
   "cell_type": "code",
   "execution_count": 5,
   "metadata": {},
   "outputs": [
    {
     "name": "stdout",
     "output_type": "stream",
     "text": [
      "<class 'pandas.core.frame.DataFrame'>\n",
      "RangeIndex: 29990 entries, 0 to 29989\n",
      "Data columns (total 9 columns):\n",
      " #   Column        Non-Null Count  Dtype         \n",
      "---  ------        --------------  -----         \n",
      " 0   date          29990 non-null  datetime64[ns]\n",
      " 1   category      29990 non-null  object        \n",
      " 2   title         29990 non-null  object        \n",
      " 3   subtitle      29990 non-null  object        \n",
      " 4   author        29990 non-null  object        \n",
      " 5   author_bio    29990 non-null  object        \n",
      " 6   text          29990 non-null  object        \n",
      " 7   url           29990 non-null  object        \n",
      " 8   time_scraped  29990 non-null  datetime64[ns]\n",
      "dtypes: datetime64[ns](2), object(7)\n",
      "memory usage: 2.1+ MB\n"
     ]
    }
   ],
   "source": [
    "df.info()"
   ]
  },
  {
   "cell_type": "markdown",
   "metadata": {},
   "source": [
    "#### Time for some EDA etc."
   ]
  },
  {
   "cell_type": "markdown",
   "metadata": {},
   "source": [
    "Actually, first I want to replace anything with '?' with NaN"
   ]
  },
  {
   "cell_type": "code",
   "execution_count": 6,
   "metadata": {},
   "outputs": [],
   "source": [
    "df.replace('?', np.nan, inplace=True)\n",
    "df.replace('', np.nan, inplace=True)"
   ]
  },
  {
   "cell_type": "code",
   "execution_count": 7,
   "metadata": {},
   "outputs": [
    {
     "name": "stdout",
     "output_type": "stream",
     "text": [
      "<class 'pandas.core.frame.DataFrame'>\n",
      "RangeIndex: 29990 entries, 0 to 29989\n",
      "Data columns (total 9 columns):\n",
      " #   Column        Non-Null Count  Dtype         \n",
      "---  ------        --------------  -----         \n",
      " 0   date          29990 non-null  datetime64[ns]\n",
      " 1   category      29465 non-null  object        \n",
      " 2   title         29990 non-null  object        \n",
      " 3   subtitle      29950 non-null  object        \n",
      " 4   author        29730 non-null  object        \n",
      " 5   author_bio    29429 non-null  object        \n",
      " 6   text          29931 non-null  object        \n",
      " 7   url           29990 non-null  object        \n",
      " 8   time_scraped  29990 non-null  datetime64[ns]\n",
      "dtypes: datetime64[ns](2), object(7)\n",
      "memory usage: 2.1+ MB\n"
     ]
    }
   ],
   "source": [
    "df.info()"
   ]
  },
  {
   "cell_type": "markdown",
   "metadata": {},
   "source": [
    "Looking into the most common topics:"
   ]
  },
  {
   "cell_type": "code",
   "execution_count": 8,
   "metadata": {},
   "outputs": [
    {
     "data": {
      "image/png": "[encoded data removed]",
      "text/plain": [
       "<Figure size 432x288 with 1 Axes>"
      ]
     },
     "metadata": {
      "needs_background": "light"
     },
     "output_type": "display_data"
    }
   ],
   "source": [
    "# number of articles by category\n",
    "df_cat = df['category'].value_counts().reset_index()\n",
    "df_cat_sorted = df_cat.sort_values('category')\n",
    "\n",
    "# plot top 20 categories\n",
    "plt.barh(df_cat_sorted['index'][-20:], df_cat_sorted['category'][-20:])\n",
    "plt.title('Article Counts for Top 20 Categories')\n",
    "plt.xlabel('number of articles')\n",
    "plt.show()"
   ]
  },
  {
   "cell_type": "markdown",
   "metadata": {},
   "source": [
    "Top categories by year..."
   ]
  },
  {
   "cell_type": "code",
   "execution_count": 9,
   "metadata": {},
   "outputs": [],
   "source": [
    "# add column for year\n",
    "df['year'] = df['date'].apply(lambda x: x.year)"
   ]
  },
  {
   "cell_type": "code",
   "execution_count": 10,
   "metadata": {},
   "outputs": [],
   "source": [
    "top_10 = {} \n",
    "\n",
    "years = [2016, 2017, 2018, 2019, 2020]\n",
    "\n",
    "for year in years:  \n",
    "    # subset datframe for year\n",
    "    df_year = df[df['year'] == year]\n",
    "    \n",
    "    # find top categories for year\n",
    "    top10_year = dict(df_year['category'].value_counts()[:10])\n",
    "    \n",
    "    # add data to top_10 dictionary\n",
    "    for category, count in top10_year.items():\n",
    "        if category not in top_10:\n",
    "            top_10[category] = {year: count}\n",
    "        else:\n",
    "            if year not in top_10[category]:\n",
    "                top_10[category][year] = count  "
   ]
  },
  {
   "cell_type": "code",
   "execution_count": 11,
   "metadata": {},
   "outputs": [
    {
     "data": {
      "image/png": "[encoded data removed]",
      "text/plain": [
       "<Figure size 432x288 with 1 Axes>"
      ]
     },
     "metadata": {
      "needs_background": "light"
     },
     "output_type": "display_data"
    }
   ],
   "source": [
    "years = [2016, 2017, 2018, 2019, 2020]\n",
    "\n",
    "# get years and values for top categories\n",
    "for category, val in top_10.items():\n",
    "    year = list(top_10[category].keys())\n",
    "    count = list(top_10[category].values())\n",
    "    \n",
    "    # plot if more category appears in more than 2 years\n",
    "    if len(year) > 2:\n",
    "        plt.plot(year, count, label=str(category))\n",
    "\n",
    "# add labels, etc.\n",
    "plt.xticks(years)\n",
    "plt.xlabel('year')\n",
    "plt.ylabel('articles')\n",
    "plt.legend(loc='upper right', bbox_to_anchor=(1.35, 1.03))\n",
    "plt.title('Top Category Trends')\n",
    "plt.show()"
   ]
  },
  {
   "cell_type": "markdown",
   "metadata": {},
   "source": [
    "Looking into the lengths of articles:"
   ]
  },
  {
   "cell_type": "code",
   "execution_count": 12,
   "metadata": {},
   "outputs": [
    {
     "data": {
      "image/png": "[encoded data removed]",
      "text/plain": [
       "<Figure size 432x288 with 1 Axes>"
      ]
     },
     "metadata": {
      "needs_background": "light"
     },
     "output_type": "display_data"
    },
    {
     "name": "stdout",
     "output_type": "stream",
     "text": [
      "Length of longest article: 210770 characters\n",
      "Length of shortest article: 208 characters\n"
     ]
    }
   ],
   "source": [
    "# use articles with text only\n",
    "df_text = df.dropna(subset=['text'])\n",
    "\n",
    "# maximum character value to plot\n",
    "MAX_VAL = 50_000\n",
    "\n",
    "plt.hist(df_text['text'].apply(len), bins=range(0, MAX_VAL, 1000))\n",
    "\n",
    "plt.title('Distribution of Article Lengths')\n",
    "plt.xlabel('characters')\n",
    "plt.ylabel('articles')\n",
    "plt.show()\n",
    "\n",
    "\n",
    "# find lenghts of shortest/longest articles\n",
    "longest = df_text['text'].apply(len).max()\n",
    "shortest = df_text['text'].apply(len).min()\n",
    "print(f'Length of longest article: {longest} characters')\n",
    "print(f'Length of shortest article: {shortest} characters')"
   ]
  },
  {
   "cell_type": "markdown",
   "metadata": {},
   "source": [
    "Number of articles published daily:"
   ]
  },
  {
   "cell_type": "code",
   "execution_count": 13,
   "metadata": {},
   "outputs": [
    {
     "data": {
      "image/png": "[encoded data removed]",
      "text/plain": [
       "<Figure size 432x288 with 1 Axes>"
      ]
     },
     "metadata": {
      "needs_background": "light"
     },
     "output_type": "display_data"
    },
    {
     "name": "stdout",
     "output_type": "stream",
     "text": [
      "Number of articles per day\n",
      "min: 1\n",
      "max: 55\n",
      "average: 18.01201201201201\n",
      "median: 17.0\n"
     ]
    }
   ],
   "source": [
    "# find article count for each date\n",
    "df_art = df['date'].value_counts().reset_index()\n",
    "\n",
    "# plot distribution\n",
    "plt.hist(df_art['date'], bins=range(min(df_art['date']), max(df_art['date'])))\n",
    "plt.xlabel('articles per day')\n",
    "plt.title('Distribution of Articles / Day')\n",
    "plt.show()\n",
    "\n",
    "# print summary stats\n",
    "print('Number of articles per day')\n",
    "print(f'min: {df_art[\"date\"].min()}')\n",
    "print(f'max: {df_art[\"date\"].max()}')\n",
    "print(f'average: {df_art[\"date\"].mean()}')\n",
    "print(f'median: {df_art[\"date\"].median()}')"
   ]
  },
  {
   "cell_type": "markdown",
   "metadata": {},
   "source": [
    "Checking whether this double curve may be due to the day of the week or the year:"
   ]
  },
  {
   "cell_type": "code",
   "execution_count": 14,
   "metadata": {},
   "outputs": [],
   "source": [
    "def is_weekday(my_date):\n",
    "    \"\"\"Returns 'weekday' or 'weekend' based on whether a date\n",
    "    is a weekday or not.\n",
    "    \n",
    "    Arguments:\n",
    "    my_date -- date as a timestamp\n",
    "    \n",
    "    \"\"\"\n",
    "    weekday = '?'\n",
    "    day_of_week = my_date.weekday()\n",
    "    if day_of_week < 5:\n",
    "        weekday = 'weekday'\n",
    "    else:\n",
    "        weekday = 'weekend'\n",
    "    return weekday      "
   ]
  },
  {
   "cell_type": "code",
   "execution_count": 15,
   "metadata": {},
   "outputs": [],
   "source": [
    "# new weekday column\n",
    "df_art['weekday'] = df_art['index'].apply(is_weekday)"
   ]
  },
  {
   "cell_type": "code",
   "execution_count": 16,
   "metadata": {},
   "outputs": [
    {
     "data": {
      "text/plain": [
       "weekday    1189\n",
       "weekend     476\n",
       "Name: weekday, dtype: int64"
      ]
     },
     "execution_count": 16,
     "metadata": {},
     "output_type": "execute_result"
    }
   ],
   "source": [
    "df_art['weekday'].value_counts()"
   ]
  },
  {
   "cell_type": "code",
   "execution_count": 17,
   "metadata": {},
   "outputs": [
    {
     "data": {
      "image/png": "[encoded data removed]",
      "text/plain": [
       "<Figure size 432x288 with 1 Axes>"
      ]
     },
     "metadata": {
      "needs_background": "light"
     },
     "output_type": "display_data"
    }
   ],
   "source": [
    "# plot distribution by weekday vs. weekend\n",
    "for day in ['weekday', 'weekend']:\n",
    "    #subset for day\n",
    "    df_day = df_art[df_art['weekday'] == day]\n",
    "    # plot distribution of articles\n",
    "    plt.hist(\n",
    "        df_day['date'], bins=range(min(df_day['date']), max(df_day['date'])), \n",
    "        label=day, alpha=0.8\n",
    "    )\n",
    "\n",
    "plt.xlabel('articles per day')\n",
    "plt.title('Distribution of Articles / Day')\n",
    "plt.legend()\n",
    "plt.show()"
   ]
  },
  {
   "cell_type": "markdown",
   "metadata": {},
   "source": [
    "Seeing if the number of articles published daily changes over the years:"
   ]
  },
  {
   "cell_type": "code",
   "execution_count": 18,
   "metadata": {},
   "outputs": [],
   "source": [
    "df_art['year'] = df_art['index'].apply(lambda x: x.year)"
   ]
  },
  {
   "cell_type": "code",
   "execution_count": 19,
   "metadata": {},
   "outputs": [
    {
     "data": {
      "image/png": "[encoded data removed]",
      "text/plain": [
       "<Figure size 432x288 with 1 Axes>"
      ]
     },
     "metadata": {
      "needs_background": "light"
     },
     "output_type": "display_data"
    }
   ],
   "source": [
    "color_map = {\n",
    "    'weekday': 'tab:blue',\n",
    "    'weekend': 'maroon'\n",
    "}\n",
    "\n",
    "# subset for day and plot\n",
    "for day, color in color_map.items():\n",
    "    df_day = df_art[df_art['weekday'] == day]\n",
    "    df_day.groupby('year')['date'].mean().plot(kind='bar', label=day, color=color)\n",
    "\n",
    "plt.legend()\n",
    "plt.title('Average Number of Articles per Day')\n",
    "plt.show()"
   ]
  },
  {
   "cell_type": "markdown",
   "metadata": {},
   "source": [
    "Are they employing fewer people?"
   ]
  },
  {
   "cell_type": "code",
   "execution_count": 20,
   "metadata": {},
   "outputs": [
    {
     "data": {
      "image/png": "[encoded data removed]",
      "text/plain": [
       "<Figure size 432x288 with 1 Axes>"
      ]
     },
     "metadata": {
      "needs_background": "light"
     },
     "output_type": "display_data"
    }
   ],
   "source": [
    "years = [2016, 2017, 2018, 2019, 2020]    \n",
    "author_count = df.groupby('year')['author'].nunique().values\n",
    "\n",
    "plt.bar(years, author_count, width=0.5)\n",
    "plt.title('Authors Employed')\n",
    "plt.xlabel('year')\n",
    "plt.ylabel('authors')\n",
    "plt.show()"
   ]
  },
  {
   "cell_type": "markdown",
   "metadata": {},
   "source": [
    "An article:"
   ]
  },
  {
   "cell_type": "code",
   "execution_count": 21,
   "metadata": {},
   "outputs": [
    {
     "data": {
      "text/plain": [
       "' What We’re Following: Marching Toward JobsThe U.S. economy added a modest 215,000 jobs in March as the unemployment rate ticked upwards slightly to 5 percent, according to a Labor Department report Friday. Economists expect both wages and labor-force participation to climb as 2016 progresses.Second City Strike: Thousands of Chicago teachers went on a one-day strike Friday, grinding the third-largest school system in the country to a halt. Union officials launched the protest to urge Illinois Governor Bruce Rauner, a Republican, and his Democratic opponents to resolve a nine-month standoff over the state budget.Battery Included: Tesla Motors received over 115,000 preorders for its new Model 3 after CEO Elon Musk unveiled it on Thursday night, but customers have a long wait ahead: The first deliveries of the battery-powered sedan won’t be made until late 2017.SnapshotA man takes a picture of cherry blossoms in almost-full bloom in Tokyo, Japan, on April 1, 2016. See more of the week’s best photos here. (Issei Kato / Reuters)Quoted“The program is designed to keep you in a rut. It’s not built to empower anybody.” —Raquel Williams, who receives welfare assistance“There are many ways that poor people are used as revenue streams for businesses. This looks like it has the potential to become another one.” —Michele Gilman, a law professor, on selling personal data  “He seems like the old man in his kitchen who will bang his hand on the table and really talk about these issues.” —Tracy Moore, who supports Bernie SandersEvening ReadEd Yong on the disease that robs you of language but keeps your mind intact:\\nWhen I first start talking to Joanne Douglas, she speaks slowly but eloquently, with deliberation and confidence. But after ten minutes, I start to notice subtle changes. She repeats some of her words, just a few at first, and then more. Pauses and hesitations creep in. Once-seamless sentences become increasingly marbled by erms and uhs. She sounds tired. After thirty minutes, I know it’s time to wrap up the interview. On any given day, Douglas only has so many words to give, and she has given me plenty.\\nDouglas has primary progressive aphasia (PPA)—a brain disorder that robs people of their language skills. … People can still plan, reason, and multi-task. Their memories stay healthy and their personalities remain unchanged, at least at first.\\nBut their blooming inability to write, read, speak, and comprehend can leave them locked inside their own heads, responsive but unable to respond, thoughtful but unable to share those thoughts. “It can be a truly devastating condition,” says Joseph Duffy from the Mayo Clinic College of Medicine. “It sucks our humanity, or what makes us uniquely human, from us.”\\nContinue reading here.News Quiz1. __________________ originated from the bombed-out lots in which children would play following World War II.(Click here or scroll down for the answer.)2. In 19th-century literature, ____________ was a symbol of deceit.(Click here or scroll down for the answer.)3. The earliest ___________ were teenage boys hired by Bell Telephone as operators.(Click here or scroll down for the answer.)Reader ResponseWhat’s the biggest religious choice you’ve made? A 26-year-old reader writes:\\nI went to Catholic elementary and middle schools, and I was heavily involved with music and youth ministries at my parish during high school. … When I got to university, I was exposed in a much bigger way to dialogue about LGBT issues, especially marriage, since this was right before and after the passage of Proposition 8 in California.\\nI began to struggle with the idea that the Church would never accept same-sex marriage and what that meant about the status of those were gay in the Church. I remember feeling as though I was having a crisis of conscience, wondering how anything less than full rights for LGBT persons could be Christian.\\nI stopped attending mass with any frequency, and I contemplated leaving the Catholic Church for the Episcopal Church. My depression worsened, because I felt as though abandoning my faith would be an abandonment of what had kept me alive for the past few years.\\nContinue reading here.VerbsInternet fooled, Spanish castle besieged, Canadian Vikings unearthed.\\nAnswers: Adventure playgrounds, wallpaper, prank callers.\\n We want to hear what you think about this article. Submit a letter to the editor or write to letters@theatlantic.com.    Matt Ford is a former associate editor at The Atlantic. Connect Twitter   Rosa Inocencio Smith is a former assistant editor at The Atlantic.  '"
      ]
     },
     "execution_count": 21,
     "metadata": {},
     "output_type": "execute_result"
    }
   ],
   "source": [
    "df['text'][0]"
   ]
  },
  {
   "cell_type": "markdown",
   "metadata": {},
   "source": [
    "#### Cleaning the text"
   ]
  },
  {
   "cell_type": "code",
   "execution_count": 22,
   "metadata": {},
   "outputs": [
    {
     "data": {
      "text/plain": [
       "(29931, 10)"
      ]
     },
     "execution_count": 22,
     "metadata": {},
     "output_type": "execute_result"
    }
   ],
   "source": [
    "df_clean = df[df['text'].isna() == 0]\n",
    "df_clean.shape"
   ]
  },
  {
   "cell_type": "code",
   "execution_count": 23,
   "metadata": {},
   "outputs": [],
   "source": [
    "articles_lower = df_clean['text'].str.lower()"
   ]
  },
  {
   "cell_type": "code",
   "execution_count": 24,
   "metadata": {},
   "outputs": [],
   "source": [
    "#articles_lower[0]"
   ]
  },
  {
   "cell_type": "code",
   "execution_count": 25,
   "metadata": {},
   "outputs": [],
   "source": [
    "articles_lower = articles_lower.str.replace('\\r', ' ')\n",
    "articles_lower = articles_lower.str.replace('\\n', ' ')\n",
    "articles_lower = articles_lower.str.replace('|', '')"
   ]
  },
  {
   "cell_type": "code",
   "execution_count": 26,
   "metadata": {},
   "outputs": [],
   "source": [
    "#articles_lower[0]"
   ]
  },
  {
   "cell_type": "code",
   "execution_count": 27,
   "metadata": {},
   "outputs": [],
   "source": [
    "articles_tokenized = articles_lower.apply(lambda x: word_tokenize(x))"
   ]
  },
  {
   "cell_type": "code",
   "execution_count": 28,
   "metadata": {},
   "outputs": [],
   "source": [
    "#articles_tokenized[0]"
   ]
  },
  {
   "cell_type": "code",
   "execution_count": 29,
   "metadata": {},
   "outputs": [],
   "source": [
    "stemmer = PorterStemmer()\n",
    "articles_stemmed = articles_tokenized.apply(\n",
    "    lambda article: [stemmer.stem(word) for word in article]\n",
    ")"
   ]
  },
  {
   "cell_type": "code",
   "execution_count": 30,
   "metadata": {},
   "outputs": [],
   "source": [
    "#articles_stemmed[0]"
   ]
  },
  {
   "cell_type": "code",
   "execution_count": 31,
   "metadata": {},
   "outputs": [],
   "source": [
    "stopwords_set = set(stopwords.words('english')) \n",
    "articles_cleaned = articles_stemmed.apply(\n",
    "    lambda article: [word for word in article if word not in stopwords_set]\n",
    ")"
   ]
  },
  {
   "cell_type": "code",
   "execution_count": 32,
   "metadata": {},
   "outputs": [],
   "source": [
    "articles_cleaned = articles_cleaned.apply(\n",
    "    lambda article: [word for word in article if word.isalpha()]\n",
    ")"
   ]
  },
  {
   "cell_type": "code",
   "execution_count": 33,
   "metadata": {},
   "outputs": [
    {
     "name": "stderr",
     "output_type": "stream",
     "text": [
      "C:\\Users\\Owner\\anaconda3\\lib\\site-packages\\ipykernel_launcher.py:1: SettingWithCopyWarning: \n",
      "A value is trying to be set on a copy of a slice from a DataFrame.\n",
      "Try using .loc[row_indexer,col_indexer] = value instead\n",
      "\n",
      "See the caveats in the documentation: https://pandas.pydata.org/pandas-docs/stable/user_guide/indexing.html#returning-a-view-versus-a-copy\n",
      "  \"\"\"Entry point for launching an IPython kernel.\n"
     ]
    }
   ],
   "source": [
    "df_clean['cleaned_text'] = articles_cleaned.apply(lambda x: ' '.join(x))"
   ]
  },
  {
   "cell_type": "code",
   "execution_count": 34,
   "metadata": {},
   "outputs": [],
   "source": [
    "df_clean.to_pickle('data/atlantic_data.pkl')"
   ]
  },
  {
   "cell_type": "code",
   "execution_count": 35,
   "metadata": {},
   "outputs": [
    {
     "data": {
      "text/plain": [
       "(29931, 11)"
      ]
     },
     "execution_count": 35,
     "metadata": {},
     "output_type": "execute_result"
    }
   ],
   "source": [
    "df_clean.shape"
   ]
  },
  {
   "cell_type": "markdown",
   "metadata": {},
   "source": [
    "The cleaned data will be used for sentiment analysis in 3.0_atlantic_sentiment_analysis.ipynb. "
   ]
  }
 ],
 "metadata": {
  "kernelspec": {
   "display_name": "Python 3",
   "language": "python",
   "name": "python3"
  },
  "language_info": {
   "codemirror_mode": {
    "name": "ipython",
    "version": 3
   },
   "file_extension": ".py",
   "mimetype": "text/x-python",
   "name": "python",
   "nbconvert_exporter": "python",
   "pygments_lexer": "ipython3",
   "version": "3.7.6"
  }
 },
 "nbformat": 4,
 "nbformat_minor": 4
}
